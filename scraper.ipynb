{
 "cells": [
  {
   "cell_type": "markdown",
   "metadata": {},
   "source": [
    "# Scraping CENACE\n",
    "\n",
    "The purpose is to scrape the CENACE day ahead market energy generation predictions for the mexican national electrical system, which is provided at a per-node resolution at http://www.cenace.gob.mx/SIM/VISTA/REPORTES/H_RepCantAsignadas.aspx?N=59&opc=divCssCantAsig&site=Cantidades%20asignadas/MDA/De%20Energ%C3%ADa%20El%C3%A9ctrica%20por%20Zona%20de%20Carga&tipoArch=C&tipoUni=SIN&tipo=De%20Energ%C3%ADa%20El%C3%A9ctrica%20por%20Zona%20de%20Carga&nombrenodop=MDA.\n"
   ]
  },
  {
   "cell_type": "code",
   "execution_count": null,
   "metadata": {},
   "outputs": [],
   "source": [
    "import requests\n",
    "from   bs4 import BeautifulSoup"
   ]
  },
  {
   "cell_type": "code",
   "execution_count": null,
   "metadata": {},
   "outputs": [],
   "source": [
    "url = \"http://www.cenace.gob.mx/SIM/VISTA/REPORTES/H_RepCantAsignadas.aspx?N=59&opc=divCssCantAsig&site=Cantidades%20asignadas/MDA/De%20Energ%C3%ADa%20El%C3%A9ctrica%20por%20Zona%20de%20Carga&tipoArch=C&tipoUni=SIN&tipo=De%20Energ%C3%ADa%20El%C3%A9ctrica%20por%20Zona%20de%20Carga&nombrenodop=MDA\""
   ]
  },
  {
   "cell_type": "code",
   "execution_count": null,
   "metadata": {},
   "outputs": [],
   "source": [
    "postdata = {\n",
    "    'ctl00$ContentPlaceHolder1$toolkit':'ctl00$ContentPlaceHolder1$UpdatePanel1|ctl00$ContentPlaceHolder1$treePrincipal',\n",
    "    # So does this next one:\n",
    "    'ctl00_ContentPlaceHolder1_treePrincipal_ClientState': '{\"expandedNodes\":[],\"collapsedNodes\":[],\"logEntries\":[],\"selectedNodes\":[],\"checkedNodes\":[\"0\",\"0:0\"],\"scrollPosition\":0}',\n",
    "    'ctl00$ContentPlaceHolder1$HiddenOpcMenu': '',\n",
    "    'ctl00_ContentPlaceHolder1_ListViewNodos_ClientState': '',\n",
    "    'ctl00_ContentPlaceHolder1_NotifAvisos_ClientState': '',\n",
    "    'ctl00$ContentPlaceHolder1$NotifAvisos$hiddenState': '',\n",
    "    'ctl00_ContentPlaceHolder1_NotifAvisos_XmlPanel_ClientState': '',\n",
    "    'ctl00_ContentPlaceHolder1_NotifAvisos_TitleMenu_ClientState': '',\n",
    "    '__EVENTTARGET': 'ctl00$ContentPlaceHolder1$treePrincipal',\n",
    "    '__EVENTARGUMENT': '{\"commandName\":\"Check\",\"index\":\"0:0\"}', # TODO: this changes!!\n",
    "    '__VIEWSTATEGENERATOR': '658B03D3',\n",
    "    '__ASYNCPOST': 'true'\n",
    "}"
   ]
  },
  {
   "cell_type": "code",
   "execution_count": null,
   "metadata": {},
   "outputs": [],
   "source": [
    "# Do the get request and get the VIEWSTATE and EVENTVALIDATION vars\n",
    "r = requests.get(url)"
   ]
  },
  {
   "cell_type": "code",
   "execution_count": null,
   "metadata": {},
   "outputs": [],
   "source": [
    "soup = BeautifulSoup(r.text, 'html5lib')"
   ]
  },
  {
   "cell_type": "code",
   "execution_count": null,
   "metadata": {},
   "outputs": [],
   "source": [
    "inputs = soup.find_all('input')"
   ]
  },
  {
   "cell_type": "code",
   "execution_count": null,
   "metadata": {},
   "outputs": [],
   "source": [
    "goodinputs = []\n",
    "for input in inputs:\n",
    "    if input['name'] == '__VIEWSTATE' or input['name'] == '__EVENTVALIDATION':\n",
    "        goodinputs.append(input['value'])"
   ]
  },
  {
   "cell_type": "code",
   "execution_count": null,
   "metadata": {},
   "outputs": [],
   "source": [
    "postdata['__VIEWSTATE'] = goodinputs[0]\n",
    "postdata['__EVENTVALIDATION'] = goodinputs[1]"
   ]
  },
  {
   "cell_type": "code",
   "execution_count": null,
   "metadata": {
    "scrolled": true
   },
   "outputs": [],
   "source": [
    "headers= {\n",
    "    'Content-Type': 'application/x-www-form-urlencoded; charset=UTF-8',\n",
    "    'User-Agent': 'Mozilla/5.0 (Windows NT 10.0; Win64; x64) AppleWebKit/537.36 (KHTML, like Gecko) Chrome/66.0.3344.0 Safari/537.36',\n",
    "    'X-Requested-With': 'XMLHttpRequest',\n",
    "    'Accept-Encoding': 'gzip, deflate'\n",
    "    \n",
    "}\n",
    "# Result \n",
    "r2 = requests.post(url, data=postdata, headers=headers)\n",
    "# The valuable HTML goes from line 2 up until you find the |hiddenField|__VIEWSTATE| but you have to store \n",
    "# this value and the __EVENTVALIDATION to get a new request\n"
   ]
  },
  {
   "cell_type": "markdown",
   "metadata": {},
   "source": [
    "## Getting the new vars\n",
    "\n",
    "To get the new vars, get the single line where the HTML ends (the one that starts with `|<somenumber>|hiddenField|__VIEWSTATE...`.\n",
    "\n",
    "The parameters continue past that line but both `__EVENTVALIDATION` and `__VIEWSTATE` are in this line so you only need the one.\n",
    "\n",
    "Once you have that, you can split this string by the vertical bar `|` char which acts as separator. \n",
    "\n",
    "Take groups of four elements out of the resulting array. \n",
    "\n",
    "1. The first element is a numeric indicator of some sort\n",
    "2. The second element is the type of field to generate (e.g. `hiddenField` or `formAction`)\n",
    "3. The third field is the key of the value or blank if it's not a new variable\n",
    "4. The fourth element is the actual value of the variable\n",
    "\n",
    "That being said, both `__VIEWSTATE` and `__EVENTVALIDATION` should be in the first 5 groups of four. (Look in the third field for the names of the vars). Discard the rest (they don't change)."
   ]
  },
  {
   "cell_type": "code",
   "execution_count": null,
   "metadata": {},
   "outputs": [],
   "source": [
    "# Separate HTML from new server garbage\n",
    "\n",
    "# Split into lines\n",
    "lines = r2.text.split('\\r\\n')\n",
    "# Trim and Ignore the first line\n",
    "lines = [x.strip() for x in lines[1:]]\n",
    "# Remove empty lines\n",
    "lines = list(filter(lambda x: len(x) != 0, lines))\n",
    "\n"
   ]
  },
  {
   "cell_type": "code",
   "execution_count": null,
   "metadata": {},
   "outputs": [],
   "source": [
    "# Search for the garbage now\n",
    "import re\n",
    "garbageLineIndex = -1\n",
    "searchRegex = re.compile('\\|[0-9]+\\|hiddenField|__VIEWSTATE')\n",
    "for index,line in enumerate(lines):\n",
    "    if searchRegex.match(line):\n",
    "        garbageLineIndex = index\n",
    "        break\n",
    "print(garbageLineIndex)\n",
    "    "
   ]
  },
  {
   "cell_type": "code",
   "execution_count": null,
   "metadata": {},
   "outputs": [],
   "source": [
    "# Store the HTML in a single soup (this is where we'll find the links to the CSVs)\n",
    "# Note: it's a strong assumption that everyting above this line is useful HTML. \n",
    "# You might want to wrap this in a try catch statement\n",
    "htmlLines = '\\n'.join(lines[0:garbageLineIndex]) # end index is non-inclusive\n",
    "soup = BeautifulSoup(htmlLines, 'html5lib')"
   ]
  },
  {
   "cell_type": "code",
   "execution_count": null,
   "metadata": {},
   "outputs": [],
   "source": [
    "## Get the new vars\n",
    "# Taken from https://stackoverflow.com/questions/752308/split-list-into-smaller-lists\n",
    "def splitlist(arr, size):\n",
    "    arrs = []\n",
    "    while len(arr) > size:\n",
    "        pice = arr[:size]\n",
    "        arrs.append(pice)\n",
    "        arr   = arr[size:]\n",
    "    arrs.append(arr)\n",
    "    return arrs\n",
    "\n",
    "garbageLine = lines[garbageLineIndex]\n",
    "tmpresult = garbageLine.split(\"|\")\n",
    "newvars = splitlist(tmpresult[1:], 4) # The first element of the split is blank because the string starts with the separator\n",
    "\n"
   ]
  },
  {
   "cell_type": "code",
   "execution_count": null,
   "metadata": {},
   "outputs": [],
   "source": [
    "for var in newvars:\n",
    "    if len(var) > 3 and (var[2] == \"__VIEWSTATE\" or var[2] == \"__EVENTVALIDATION\"):\n",
    "        print(var)"
   ]
  }
 ],
 "metadata": {
  "kernelspec": {
   "display_name": "Python 3",
   "language": "python",
   "name": "python3"
  },
  "language_info": {
   "codemirror_mode": {
    "name": "ipython",
    "version": 3
   },
   "file_extension": ".py",
   "mimetype": "text/x-python",
   "name": "python",
   "nbconvert_exporter": "python",
   "pygments_lexer": "ipython3",
   "version": "3.6.1"
  }
 },
 "nbformat": 4,
 "nbformat_minor": 2
}
